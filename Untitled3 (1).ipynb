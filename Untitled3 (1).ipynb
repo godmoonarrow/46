{
  "nbformat": 4,
  "nbformat_minor": 0,
  "metadata": {
    "colab": {
      "provenance": []
    },
    "kernelspec": {
      "name": "python3",
      "display_name": "Python 3"
    },
    "language_info": {
      "name": "python"
    }
  },
  "cells": [
    {
      "cell_type": "code",
      "execution_count": 13,
      "metadata": {
        "colab": {
          "base_uri": "https://localhost:8080/"
        },
        "id": "5tlR3okFEMFF",
        "outputId": "25527741-40ba-4ba0-85f9-8a8901dc0c9f"
      },
      "outputs": [
        {
          "output_type": "stream",
          "name": "stdout",
          "text": [
            "1 x 1 = 1\n",
            "1 x 2 = 2\n",
            "1 x 3 = 3\n",
            "1 x 4 = 4\n",
            "1 x 5 = 5\n",
            "2 x 1 = 2\n",
            "2 x 2 = 4\n",
            "2 x 3 = 6\n",
            "2 x 4 = 8\n",
            "2 x 5 = 10\n",
            "3 x 1 = 3\n",
            "3 x 2 = 6\n",
            "3 x 3 = 9\n",
            "3 x 4 = 12\n",
            "3 x 5 = 15\n",
            "4 x 1 = 4\n",
            "4 x 2 = 8\n",
            "4 x 3 = 12\n",
            "4 x 4 = 16\n",
            "4 x 5 = 20\n",
            "5 x 1 = 5\n",
            "5 x 2 = 10\n",
            "5 x 3 = 15\n",
            "5 x 4 = 20\n",
            "5 x 5 = 25\n"
          ]
        }
      ],
      "source": [
        "n=5\n",
        "for i in range(1, n + 1):\n",
        "    for j in range(1, n + 1):\n",
        "        result = i * j\n",
        "        print(f\"{i} x {j} = {result}\")\n"
      ]
    },
    {
      "cell_type": "code",
      "source": [
        "print(\"歡迎參加猜數字遊戲！\")\n",
        "import random\n",
        "\n",
        "target_number = random.randint(1, 100)\n",
        "\n",
        "guess_count = 0\n",
        "\n",
        "while True:\n",
        "    guess = int(input(\"猜一個1到100之間的數字：\"))\n",
        "    guess_count += 1\n",
        "\n",
        "    if guess < target_number:\n",
        "        print(\"太低了，再試一次。\")\n",
        "    elif guess > target_number:\n",
        "        print(\"太高了，再試一次。\")\n",
        "    else:\n",
        "        print(f\"恭喜你，你猜對了！目標數字是 {target_number}。你一共猜了 {guess_count} 次。\")\n",
        "        break\n",
        "print(\"遊戲結束\")\n"
      ],
      "metadata": {
        "colab": {
          "base_uri": "https://localhost:8080/"
        },
        "id": "MM-XyQjAFwPH",
        "outputId": "dadbd1b9-bcb1-4e4a-e354-5c01f866df7a"
      },
      "execution_count": 14,
      "outputs": [
        {
          "output_type": "stream",
          "name": "stdout",
          "text": [
            "歡迎參加猜數字遊戲！\n",
            "猜一個1到100之間的數字：50\n",
            "太高了，再試一次。\n",
            "猜一個1到100之間的數字：25\n",
            "太高了，再試一次。\n",
            "猜一個1到100之間的數字：13\n",
            "太高了，再試一次。\n",
            "猜一個1到100之間的數字：10\n",
            "太高了，再試一次。\n",
            "猜一個1到100之間的數字：5\n",
            "太低了，再試一次。\n",
            "猜一個1到100之間的數字：9\n",
            "太高了，再試一次。\n",
            "猜一個1到100之間的數字：7\n",
            "恭喜你，你猜對了！目標數字是 7。你一共猜了 7 次。\n",
            "遊戲結束\n"
          ]
        }
      ]
    }
  ]
}